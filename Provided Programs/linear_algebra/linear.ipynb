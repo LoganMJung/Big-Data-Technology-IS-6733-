{
 "cells": [
  {
   "cell_type": "markdown",
   "metadata": {},
   "source": [
    "# Linear Algebra Review\n",
    "Python is a great programming language and with the help of a few popular libraries such numpy and matplotlib it becomes a powerful environment for Linear Algebra computing.\n",
    "\n",
    "Numpy Documentation - This brief overview has touched on many of the important things that you need to know about numpy, but is far from complete. Check out the [numpy reference](http://docs.scipy.org/doc/numpy/reference/) to find out much more about numpy.\n",
    "\n",
    "##### 1) Matrices and Vectors \n",
    "Rectangulare array of numbers\n",
    "<img src=\"image/matrix.png\">\n",
    "\n",
    "## Numpy Array "
   ]
  },
  {
   "cell_type": "code",
   "execution_count": 221,
   "metadata": {
    "collapsed": true
   },
   "outputs": [],
   "source": [
    "import numpy as np"
   ]
  },
  {
   "cell_type": "markdown",
   "metadata": {},
   "source": [
    "##### 1) Matrices and Vectors \n",
    "A numpy array is a grid of values, all of the same type, and is indexed by a tuple of nonnegative integers."
   ]
  },
  {
   "cell_type": "code",
   "execution_count": 222,
   "metadata": {
    "collapsed": false
   },
   "outputs": [
    {
     "name": "stdout",
     "output_type": "stream",
     "text": [
      "[[1 2 3 4]\n",
      " [1 4 5 6]\n",
      " [1 2 3 4]]\n",
      "<class 'numpy.ndarray'>\n",
      "(3, 4)\n"
     ]
    }
   ],
   "source": [
    "# Create a rank 1 array\n",
    "a = np.array(\n",
    "    [\n",
    "        [1,2,3,4],\n",
    "        [1,4,5,6],\n",
    "        [1,2,3,4]\n",
    "    ]\n",
    ")  \n",
    "print (a)\n",
    "print (type(a))            \n",
    "print (a.shape)"
   ]
  },
  {
   "cell_type": "markdown",
   "metadata": {},
   "source": [
    "##### 1.1) Change an element of the array "
   ]
  },
  {
   "cell_type": "code",
   "execution_count": 223,
   "metadata": {
    "collapsed": false
   },
   "outputs": [
    {
     "name": "stdout",
     "output_type": "stream",
     "text": [
      "[[1 2 3 4]\n",
      " [1 4 5 6]\n",
      " [1 2 3 4]]\n",
      "\n",
      "[[100   2   3   4]\n",
      " [  1   4   5   6]\n",
      " [  1   2   3   4]]\n"
     ]
    }
   ],
   "source": [
    "a = np.array(\n",
    "    [\n",
    "        [1,2,3,4],\n",
    "        [1,4,5,6],\n",
    "        [1,2,3,4]\n",
    "    ])\n",
    "print (a)\n",
    "a[0,0] = 100\n",
    "print ()\n",
    "print (a)"
   ]
  },
  {
   "cell_type": "markdown",
   "metadata": {},
   "source": [
    "##### 1.2) Numpy functions"
   ]
  },
  {
   "cell_type": "markdown",
   "metadata": {},
   "source": [
    "<font color=\"red\"> **Datatypes**"
   ]
  },
  {
   "cell_type": "code",
   "execution_count": 224,
   "metadata": {
    "collapsed": false
   },
   "outputs": [
    {
     "name": "stdout",
     "output_type": "stream",
     "text": [
      "[[1 2 3 4]\n",
      " [1 4 5 6]\n",
      " [1 2 3 4]]\n",
      "<class 'numpy.int64'>\n",
      "\n",
      "[[ 1.2  2.   3.   4. ]\n",
      " [ 1.   4.   5.   6. ]\n",
      " [ 1.   2.   3.   4. ]]\n",
      "<class 'numpy.float64'>\n"
     ]
    }
   ],
   "source": [
    "a = np.array(\n",
    "    [\n",
    "        [1,2,3,4],\n",
    "        [1,4,5,6],\n",
    "        [1,2,3,4]\n",
    "    ]\n",
    ")\n",
    "print (a)\n",
    "print (type(a[0,0]))\n",
    "print ()\n",
    "a = np.array(\n",
    "    [\n",
    "        [1.2,2,3,4],\n",
    "        [1,4,5,6],\n",
    "        [1,2,3,4]\n",
    "    ]\n",
    ")  \n",
    "print (a)\n",
    "print (type(a[0,0]))"
   ]
  },
  {
   "cell_type": "markdown",
   "metadata": {},
   "source": [
    "<font color=\"red\"> **Compute sum of all elements in matrix**"
   ]
  },
  {
   "cell_type": "code",
   "execution_count": 225,
   "metadata": {
    "collapsed": false
   },
   "outputs": [
    {
     "name": "stdout",
     "output_type": "stream",
     "text": [
      "[[1 2 1]\n",
      " [3 4 1]]\n",
      "12\n",
      "[4 6 2]\n",
      "[4 8]\n"
     ]
    }
   ],
   "source": [
    "x = np.array([\n",
    "        [1,2,1],[3,4,1]])\n",
    "\n",
    "print (x)\n",
    "print (np.sum(x))  \n",
    "print (np.sum(x, axis=0))  \n",
    "print (np.sum(x, axis=1))  "
   ]
  },
  {
   "cell_type": "markdown",
   "metadata": {},
   "source": [
    "<font color=\"red\"> **Create an array of all zeros**"
   ]
  },
  {
   "cell_type": "code",
   "execution_count": 226,
   "metadata": {
    "collapsed": false
   },
   "outputs": [
    {
     "data": {
      "text/plain": [
       "array([[ 0.,  0.,  0.,  0.],\n",
       "       [ 0.,  0.,  0.,  0.],\n",
       "       [ 0.,  0.,  0.,  0.],\n",
       "       [ 0.,  0.,  0.,  0.]])"
      ]
     },
     "execution_count": 226,
     "metadata": {},
     "output_type": "execute_result"
    }
   ],
   "source": [
    "a = np.zeros((4,4))  \n",
    "a"
   ]
  },
  {
   "cell_type": "markdown",
   "metadata": {},
   "source": [
    "<font color=\"red\"> **Create an array of all ones ** "
   ]
  },
  {
   "cell_type": "code",
   "execution_count": 227,
   "metadata": {
    "collapsed": false
   },
   "outputs": [
    {
     "data": {
      "text/plain": [
       "array([[ 1.,  1.,  1.,  1.,  1.],\n",
       "       [ 1.,  1.,  1.,  1.,  1.]])"
      ]
     },
     "execution_count": 227,
     "metadata": {},
     "output_type": "execute_result"
    }
   ],
   "source": [
    "a = np.ones((2,5))   \n",
    "a             "
   ]
  },
  {
   "cell_type": "markdown",
   "metadata": {},
   "source": [
    "<font color=\"red\"> **Create a constant array**"
   ]
  },
  {
   "cell_type": "code",
   "execution_count": 228,
   "metadata": {
    "collapsed": false
   },
   "outputs": [
    {
     "name": "stderr",
     "output_type": "stream",
     "text": [
      "/Users/paulrad/anaconda/lib/python3.5/site-packages/numpy/core/numeric.py:301: FutureWarning: in the future, full((4, 4), 7) will return an array of dtype('int64')\n",
      "  format(shape, fill_value, array(fill_value).dtype), FutureWarning)\n"
     ]
    },
    {
     "data": {
      "text/plain": [
       "array([[ 7.,  7.,  7.,  7.],\n",
       "       [ 7.,  7.,  7.,  7.],\n",
       "       [ 7.,  7.,  7.,  7.],\n",
       "       [ 7.,  7.,  7.,  7.]])"
      ]
     },
     "execution_count": 228,
     "metadata": {},
     "output_type": "execute_result"
    }
   ],
   "source": [
    "a = np.full((4,4), 7)  \n",
    "a               "
   ]
  },
  {
   "cell_type": "markdown",
   "metadata": {},
   "source": [
    "<font color=\"red\"> **Create an identity matrix**"
   ]
  },
  {
   "cell_type": "code",
   "execution_count": 229,
   "metadata": {
    "collapsed": false
   },
   "outputs": [
    {
     "data": {
      "text/plain": [
       "array([[ 1.,  0.,  0.,  0.],\n",
       "       [ 0.,  1.,  0.,  0.],\n",
       "       [ 0.,  0.,  1.,  0.],\n",
       "       [ 0.,  0.,  0.,  1.]])"
      ]
     },
     "execution_count": 229,
     "metadata": {},
     "output_type": "execute_result"
    }
   ],
   "source": [
    "a = np.eye(4)       \n",
    "a            "
   ]
  },
  {
   "cell_type": "markdown",
   "metadata": {},
   "source": [
    "<font color=\"red\"> **Create an array filled with random values**"
   ]
  },
  {
   "cell_type": "code",
   "execution_count": 230,
   "metadata": {
    "collapsed": false
   },
   "outputs": [
    {
     "data": {
      "text/plain": [
       "array([[ 0.99675889,  0.48221569,  0.74618279,  0.78806924,  0.91611288],\n",
       "       [ 0.55395189,  0.66142647,  0.79202116,  0.45990973,  0.05020694],\n",
       "       [ 0.80307842,  0.76407037,  0.40752493,  0.39043778,  0.2128692 ],\n",
       "       [ 0.15180235,  0.48343888,  0.30267939,  0.2862789 ,  0.14557521],\n",
       "       [ 0.33909821,  0.52614965,  0.74773651,  0.21944924,  0.39060696]])"
      ]
     },
     "execution_count": 230,
     "metadata": {},
     "output_type": "execute_result"
    }
   ],
   "source": [
    "a = np.random.random((5,5)) \n",
    "a                    "
   ]
  },
  {
   "cell_type": "markdown",
   "metadata": {},
   "source": [
    "<font color=\"red\"> **slicing to pull out the subarray**"
   ]
  },
  {
   "cell_type": "code",
   "execution_count": 231,
   "metadata": {
    "collapsed": false
   },
   "outputs": [
    {
     "name": "stdout",
     "output_type": "stream",
     "text": [
      "[[ 1  2  3  4]\n",
      " [ 5  6  7  8]\n",
      " [ 9 10 11 12]]\n",
      "\n",
      "[[1 2 3]]\n"
     ]
    }
   ],
   "source": [
    "a = np.array(\n",
    "    [\n",
    "        [1,2,3,4],\n",
    "        [5,6,7,8],\n",
    "        [9,10,11,12]\n",
    "    ])\n",
    "print (a)\n",
    "print ()\n",
    "b = a[:1, :3]\n",
    "print (b)"
   ]
  },
  {
   "cell_type": "markdown",
   "metadata": {
    "collapsed": true
   },
   "source": [
    "##### 2) Matrix Addition\n",
    "<img src=\"image/matrix-sum.png\">"
   ]
  },
  {
   "cell_type": "code",
   "execution_count": 232,
   "metadata": {
    "collapsed": false
   },
   "outputs": [
    {
     "name": "stdout",
     "output_type": "stream",
     "text": [
      "[[ 1.  1.  1.  1.  1.  1.  1.]\n",
      " [ 1.  1.  1.  1.  1.  1.  1.]\n",
      " [ 1.  1.  1.  1.  1.  1.  1.]\n",
      " [ 1.  1.  1.  1.  1.  1.  1.]]\n",
      "[[ 4.3  4.3  4.3  4.3  4.3  4.3  4.3]\n",
      " [ 4.3  4.3  4.3  4.3  4.3  4.3  4.3]\n",
      " [ 4.3  4.3  4.3  4.3  4.3  4.3  4.3]\n",
      " [ 4.3  4.3  4.3  4.3  4.3  4.3  4.3]]\n",
      "\n",
      "[[ 5.3  5.3  5.3  5.3  5.3  5.3  5.3]\n",
      " [ 5.3  5.3  5.3  5.3  5.3  5.3  5.3]\n",
      " [ 5.3  5.3  5.3  5.3  5.3  5.3  5.3]\n",
      " [ 5.3  5.3  5.3  5.3  5.3  5.3  5.3]]\n"
     ]
    }
   ],
   "source": [
    "x = np.ones((4,7))\n",
    "print (x)\n",
    "y = np.full((4,7), 4.3)\n",
    "print (y)\n",
    "z = x+y\n",
    "print ()\n",
    "print (z)"
   ]
  },
  {
   "cell_type": "code",
   "execution_count": 233,
   "metadata": {
    "collapsed": false,
    "scrolled": true
   },
   "outputs": [
    {
     "name": "stdout",
     "output_type": "stream",
     "text": [
      "[[ 1.2  2.   3.   4. ]\n",
      " [ 1.   4.   5.   6. ]\n",
      " [ 1.   2.   3.   4. ]]\n",
      "[[1 2 3 4]\n",
      " [1 4 5 6]\n",
      " [1 2 3 4]]\n",
      "\n",
      "[[  2.2   4.    6.    8. ]\n",
      " [  2.    8.   10.   12. ]\n",
      " [  2.    4.    6.    8. ]]\n"
     ]
    }
   ],
   "source": [
    "x = np.array(\n",
    "    [\n",
    "        [1.2,2,3,4],\n",
    "        [1,4,5,6],\n",
    "        [1,2,3,4]\n",
    "    ])\n",
    "print (x)\n",
    "y = np.array(\n",
    "    [\n",
    "        [1,2,3,4],\n",
    "        [1,4,5,6],\n",
    "        [1,2,3,4]\n",
    "    ])\n",
    "print (y)\n",
    "print ()\n",
    "z = np.add(x, y)\n",
    "print (z)"
   ]
  },
  {
   "cell_type": "markdown",
   "metadata": {},
   "source": [
    "##### 2) Matrix Subtraction  \n",
    "<img src=\"image/matrix-sub.png\">"
   ]
  },
  {
   "cell_type": "code",
   "execution_count": 234,
   "metadata": {
    "collapsed": false
   },
   "outputs": [
    {
     "name": "stdout",
     "output_type": "stream",
     "text": [
      "[[ 0.2  0.   0.   0. ]\n",
      " [ 0.   0.   0.   0. ]\n",
      " [ 0.   0.   0.   0. ]]\n",
      "\n",
      "[[ 0.2  0.   0.   0. ]\n",
      " [ 0.   0.   0.   0. ]\n",
      " [ 0.   0.   0.   0. ]]\n"
     ]
    }
   ],
   "source": [
    "z = x - y\n",
    "print (z)\n",
    "print ()\n",
    "z = np.subtract(x, y)\n",
    "print (z)"
   ]
  },
  {
   "cell_type": "markdown",
   "metadata": {},
   "source": [
    "##### 3) Matrix Vector Multiplication\n",
    "<img src=\"image/matrix-vector.png\">"
   ]
  },
  {
   "cell_type": "code",
   "execution_count": 235,
   "metadata": {
    "collapsed": false
   },
   "outputs": [
    {
     "name": "stdout",
     "output_type": "stream",
     "text": [
      "[[ 1  0 -1]\n",
      " [ 1  2 -1]\n",
      " [ 1  0 -1]\n",
      " [ 1  0 -1]]\n",
      "[1 1 2]\n",
      "[-1  1 -1 -1]\n"
     ]
    }
   ],
   "source": [
    "x = np.array(\n",
    "    [\n",
    "        [1,0,-1],\n",
    "        [1,2,-1],\n",
    "        [1,0,-1],\n",
    "        [1,0,-1]\n",
    "    ])\n",
    "print (x)\n",
    "y = np.array([1,1,2])\n",
    "print (y)\n",
    "z = np.dot(x, y)\n",
    "print (z)"
   ]
  },
  {
   "cell_type": "markdown",
   "metadata": {},
   "source": [
    "##### 3.1) Matrix Multiplication\n",
    "<img src=\"image/matrix-dot.png\">"
   ]
  },
  {
   "cell_type": "code",
   "execution_count": 236,
   "metadata": {
    "collapsed": false,
    "scrolled": true
   },
   "outputs": [
    {
     "name": "stdout",
     "output_type": "stream",
     "text": [
      "[[1 2 3]\n",
      " [4 5 6]]\n",
      "[[ 7  8]\n",
      " [ 9 10]\n",
      " [11 12]]\n",
      "\n",
      "[[ 58  64]\n",
      " [139 154]]\n",
      "\n",
      "[[ 39  54  69]\n",
      " [ 49  68  87]\n",
      " [ 59  82 105]]\n"
     ]
    }
   ],
   "source": [
    "x = np.array(\n",
    "    [\n",
    "        [1,2,3],\n",
    "        [4,5,6]\n",
    "    ])\n",
    "print (x)\n",
    "y = np.array(\n",
    "    [\n",
    "        [7,8],\n",
    "        [9,10],\n",
    "        [11,12]\n",
    "    ])\n",
    "print (y)\n",
    "print ()\n",
    "z = np.dot(x, y)\n",
    "print (z)\n",
    "print ()\n",
    "z = np.dot(y, x)\n",
    "print (z)"
   ]
  },
  {
   "cell_type": "markdown",
   "metadata": {
    "collapsed": false
   },
   "source": [
    "##### 4) Matrix Transpose\n",
    "<img src=\"image/matrix-transpose.png\">\n"
   ]
  },
  {
   "cell_type": "code",
   "execution_count": 237,
   "metadata": {
    "collapsed": false
   },
   "outputs": [
    {
     "name": "stdout",
     "output_type": "stream",
     "text": [
      "[[0 1 2 0]\n",
      " [0 3 4 5]]\n",
      "\n",
      "[[0 0]\n",
      " [1 3]\n",
      " [2 4]\n",
      " [0 5]]\n"
     ]
    }
   ],
   "source": [
    "x = np.array([[0,1,2,0], [0,3,4,5]])\n",
    "print (x) \n",
    "print ()\n",
    "print (x.T) "
   ]
  },
  {
   "cell_type": "markdown",
   "metadata": {},
   "source": [
    "<font color=\"red\"> **Note that taking the transpose of a rank 1 array does nothing**"
   ]
  },
  {
   "cell_type": "code",
   "execution_count": 238,
   "metadata": {
    "collapsed": false
   },
   "outputs": [
    {
     "name": "stdout",
     "output_type": "stream",
     "text": [
      "[0 1 2 3]\n",
      "(4,)\n",
      "(4,)\n"
     ]
    }
   ],
   "source": [
    "x = np.array([0,1,2,3])\n",
    "print (x)\n",
    "print (x.shape)\n",
    "y = x.T\n",
    "print (y.shape) "
   ]
  },
  {
   "cell_type": "markdown",
   "metadata": {},
   "source": [
    "<font color=\"red\"> **Create an empty matrix with the same shape as x**    "
   ]
  },
  {
   "cell_type": "code",
   "execution_count": 240,
   "metadata": {
    "collapsed": false
   },
   "outputs": [
    {
     "name": "stdout",
     "output_type": "stream",
     "text": [
      "[[ 1  2  3]\n",
      " [ 4  5  6]\n",
      " [ 7  8  9]\n",
      " [10 11 12]]\n",
      "\n",
      "[[ 2  7  4]\n",
      " [ 5 10  7]\n",
      " [ 8 13 10]\n",
      " [11 16 13]]\n"
     ]
    }
   ],
   "source": [
    "x = np.array([[1,2,3], [4,5,6], [7,8,9], [10, 11, 12]])\n",
    "print (x)\n",
    "print ()\n",
    "v = np.array([1, 5, 1])\n",
    "y = np.empty_like(x)   \n",
    "\n",
    "for i in range(4):\n",
    "    y[i, :] = x[i, :] + v\n",
    "\n",
    "print (y)"
   ]
  },
  {
   "cell_type": "code",
   "execution_count": null,
   "metadata": {
    "collapsed": true
   },
   "outputs": [],
   "source": []
  }
 ],
 "metadata": {
  "anaconda-cloud": {},
  "kernelspec": {
   "display_name": "Python [Root]",
   "language": "python",
   "name": "Python [Root]"
  },
  "language_info": {
   "codemirror_mode": {
    "name": "ipython",
    "version": 3
   },
   "file_extension": ".py",
   "mimetype": "text/x-python",
   "name": "python",
   "nbconvert_exporter": "python",
   "pygments_lexer": "ipython3",
   "version": "3.5.2"
  }
 },
 "nbformat": 4,
 "nbformat_minor": 0
}
