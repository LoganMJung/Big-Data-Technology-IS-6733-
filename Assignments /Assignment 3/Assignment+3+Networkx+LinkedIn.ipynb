{
 "cells": [
  {
   "cell_type": "markdown",
   "metadata": {},
   "source": [
    "# Assignment 3, Due Date 11.13.2017"
   ]
  },
  {
   "cell_type": "code",
   "execution_count": 285,
   "metadata": {},
   "outputs": [],
   "source": [
    "import networkx as nx\n",
    "import matplotlib.pyplot as plt\n",
    "import numpy as np\n",
    "import warnings\n",
    "from datetime import datetime\n",
    "from collections import Counter\n",
    "%matplotlib inline"
   ]
  },
  {
   "cell_type": "code",
   "execution_count": 286,
   "metadata": {},
   "outputs": [],
   "source": [
    "social = nx.read_gpickle('linkedin.gpickle')"
   ]
  },
  {
   "cell_type": "code",
   "execution_count": 287,
   "metadata": {
    "scrolled": true
   },
   "outputs": [
    {
     "name": "stdout",
     "output_type": "stream",
     "text": [
      "Name: \n",
      "Type: Graph\n",
      "Number of nodes: 30\n",
      "Number of edges: 48\n",
      "Average degree:   3.2000\n"
     ]
    }
   ],
   "source": [
    "print(nx.info(social))"
   ]
  },
  {
   "cell_type": "code",
   "execution_count": 288,
   "metadata": {},
   "outputs": [
    {
     "data": {
      "image/png": "[encoded data removed]",
      "text/plain": [
       "<matplotlib.figure.Figure at 0x7f99a5664978>"
      ]
     },
     "metadata": {},
     "output_type": "display_data"
    }
   ],
   "source": [
    "nx.draw_networkx(social,node_color='r', node_size=10, with_labels=False)"
   ]
  },
  {
   "cell_type": "code",
   "execution_count": 289,
   "metadata": {},
   "outputs": [
    {
     "data": {
      "text/plain": [
       "NodeDataView({0: {'age': 20, 'sex': 'Male'}, 1: {'age': 21, 'sex': 'Female'}, 2: {'age': 19, 'sex': 'Male'}, 3: {'age': 29, 'sex': 'Female'}, 4: {'age': 30, 'sex': 'Male'}, 5: {'age': 26, 'sex': 'Female'}, 6: {'age': 21, 'sex': 'Male'}, 7: {'age': 17, 'sex': 'Female'}, 8: {'age': 21, 'sex': 'Male'}, 9: {'age': 14, 'sex': 'Male'}, 10: {'age': 23, 'sex': 'Male'}, 11: {'age': 17, 'sex': 'Female'}, 12: {'age': 19, 'sex': 'Male'}, 13: {'age': 27, 'sex': 'Female'}, 14: {'age': 29, 'sex': 'Female'}, 15: {'age': 14, 'sex': 'Male'}, 16: {'age': 18, 'sex': 'Female'}, 17: {'age': 21, 'sex': 'Female'}, 18: {'age': 19, 'sex': 'Male'}, 19: {'age': 19, 'sex': 'Female'}, 20: {'age': 19, 'sex': 'Female'}, 21: {'age': 21, 'sex': 'Male'}, 22: {'age': 30, 'sex': 'Female'}, 23: {'age': 25, 'sex': 'Female'}, 24: {'age': 13, 'sex': 'Male'}, 25: {'age': 24, 'sex': 'Female'}, 26: {'age': 23, 'sex': 'Male'}, 27: {'age': 21, 'sex': 'Male'}, 28: {'age': 29, 'sex': 'Female'}, 29: {'age': 25, 'sex': 'Male'}})"
      ]
     },
     "execution_count": 289,
     "metadata": {},
     "output_type": "execute_result"
    }
   ],
   "source": [
    "#get the node attributes\n",
    "social.nodes(data=True)"
   ]
  },
  {
   "cell_type": "markdown",
   "metadata": {},
   "source": [
    "# Question 1: Write a program that presents the range of dates (earliest and last dates) during which these relationships were forged? "
   ]
  },
  {
   "cell_type": "code",
   "execution_count": 290,
   "metadata": {},
   "outputs": [
    {
     "name": "stdout",
     "output_type": "stream",
     "text": [
      "Earliest Date is 2011-11-04 00:00:00\n",
      "Latest Date is 2002-05-20 00:00:00\n"
     ]
    }
   ],
   "source": [
    "Q1 = social.edges(data=True)\n",
    "\n",
    "#indexing the 3rd element of the list to strip out the date \n",
    "xx = [x[2] for x in social.edges(data=\"date\")]\n",
    "print(\"Earliest Date is\", max(xx))\n",
    "print(\"Latest Date is\" ,min(xx))"
   ]
  },
  {
   "cell_type": "markdown",
   "metadata": {},
   "source": [
    "# Question 2: Write a program that demonstrates if node 5 and 25 are friends (directly or indirectly)"
   ]
  },
  {
   "cell_type": "code",
   "execution_count": 291,
   "metadata": {
    "scrolled": true
   },
   "outputs": [
    {
     "name": "stdout",
     "output_type": "stream",
     "text": [
      "Edges: []\n",
      "All Neighbors: []\n",
      "Neighbors: []\n",
      "Node 5 does not have any friends, directly or indirectly\n"
     ]
    }
   ],
   "source": [
    "#finding the if 5 has any edges \n",
    "#if node 5 doesn't have any edges then it's not connected to any nodes \n",
    "print(\"Edges:\", nx.edges(social,5))\n",
    "print(\"All Neighbors:\",list(nx.all_neighbors(social,5)))\n",
    "print(\"Neighbors:\",list(social.neighbors(5)))\n",
    "print(\"Node 5 does not have any friends, directly or indirectly\")"
   ]
  },
  {
   "cell_type": "markdown",
   "metadata": {},
   "source": [
    "# Question 3: Write a program that lists direct friends of node 4"
   ]
  },
  {
   "cell_type": "code",
   "execution_count": 292,
   "metadata": {},
   "outputs": [
    {
     "name": "stdout",
     "output_type": "stream",
     "text": [
      "Node 4 has the following properties:\n",
      "Degree: 3\n",
      "Neighbors: 1 19 28\n",
      "Neighbors V2 [1, 19, 28]\n",
      "Direct Friends of Node 4 : [1, 19, 28, 4]\n"
     ]
    }
   ],
   "source": [
    "# printing the info for node 4 \n",
    "print(nx.info(social,4))\n",
    "\n",
    "print(\"Neighbors V2\",list(social.neighbors(4)))\n",
    "\n",
    "se = nx.edges(social,4)\n",
    "\n",
    "c = [el[1] for el in se]\n",
    "c.append(4)\n",
    "\n",
    "print(\"Direct Friends of Node 4 :\",c)"
   ]
  },
  {
   "cell_type": "markdown",
   "metadata": {},
   "source": [
    "# Question 4: Write a program that presents the most popular person"
   ]
  },
  {
   "cell_type": "code",
   "execution_count": 293,
   "metadata": {},
   "outputs": [
    {
     "name": "stdout",
     "output_type": "stream",
     "text": [
      "The most popular person is Node 19\n"
     ]
    }
   ],
   "source": [
    "dc =nx.degree_centrality(social)\n",
    "#print (dc)\n",
    "print(\"The most popular person is Node\", max(zip(dc.values(), dc.keys()))[1])\n"
   ]
  }
 ],
 "metadata": {
  "kernelspec": {
   "display_name": "Python 3",
   "language": "python",
   "name": "python3"
  },
  "language_info": {
   "codemirror_mode": {
    "name": "ipython",
    "version": 3
   },
   "file_extension": ".py",
   "mimetype": "text/x-python",
   "name": "python",
   "nbconvert_exporter": "python",
   "pygments_lexer": "ipython3",
   "version": "3.5.2"
  }
 },
 "nbformat": 4,
 "nbformat_minor": 2
}
